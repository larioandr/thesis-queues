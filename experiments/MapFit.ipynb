{
 "cells": [
  {
   "cell_type": "code",
   "execution_count": 1,
   "id": "different-mention",
   "metadata": {},
   "outputs": [],
   "source": [
    "%load_ext autoreload\n",
    "%autoreload 2"
   ]
  },
  {
   "cell_type": "code",
   "execution_count": 2,
   "id": "9150d9bf-f089-4009-84e8-5520b2a9c6e4",
   "metadata": {},
   "outputs": [],
   "source": [
    "# !pip install widgetsnbextension ipywidgets jupyterlab_widgets\n",
    "# !jupyter nbextension enable --py widgetsnbextension\n",
    "# !jupyter labextension install @jupyter-widgets/jupyterlab-manager"
   ]
  },
  {
   "cell_type": "code",
   "execution_count": 3,
   "id": "armed-smith",
   "metadata": {},
   "outputs": [],
   "source": [
    "from matplotlib import pyplot as plt\n",
    "import matplotlib\n",
    "import numpy as np\n",
    "from itertools import product\n",
    "from tqdm.notebook import tqdm\n",
    "from typing import Optional\n",
    "\n",
    "import warnings\n",
    "from scipy.optimize import minimize, linprog, shgo\n",
    "\n",
    "from pyqumo.fitting import fit_mern2, fit_acph2, fit_map_horvath05, optimize_lag1\n",
    "from pyqumo.stats import get_cv, get_skewness, get_noncentral_m2, get_noncentral_m3\n",
    "from pyqumo.random import HyperErlang, PhaseType, Distribution\n",
    "from pyqumo.arrivals import MarkovArrival\n",
    "from pyqumo.errors import BoundsError, RowSumError\n",
    "from pyqumo.matrix import cbdiag"
   ]
  },
  {
   "cell_type": "code",
   "execution_count": 5,
   "id": "clean-orleans",
   "metadata": {},
   "outputs": [],
   "source": [
    "def fit_ph(m1: float, cv: float, skew: float) -> PhaseType:\n",
    "    \"\"\"\n",
    "    Fit PH by either ACPH(2) or MERN(2) methods.\n",
    "    \"\"\"\n",
    "    moments = np.asarray([m1, get_noncentral_m2(m1, cv), get_noncentral_m3(m1, cv, skew)])\n",
    "    try:\n",
    "        dist: Distribution = fit_acph2(moments, strict=True)\n",
    "    except BoundsError:\n",
    "        dist: Distribution = fit_mern2(moments, strict=False, max_shape_inc=1)\n",
    "    return dist[0].as_ph()\n",
    "\n",
    "def fit_map(ph: PhaseType, lag1: float) -> MarkovArrival:\n",
    "    \"\"\"\n",
    "    Shortcut for fitting MAP\n",
    "    \"\"\"\n",
    "    return fit_map_horvath05(ph, lag1)[0]"
   ]
  },
  {
   "cell_type": "markdown",
   "id": "different-trance",
   "metadata": {},
   "source": [
    "## Анализ максимального и минимального коэффициента автокорреляции\n",
    "\n",
    "Первый эксперимент:\n",
    "\n",
    "1) Построим простой PH по трем моментам\n",
    "2) Вычислим для него минимальный и максимальный коэффициенты автокорреляции\n",
    "3) Убедимся, что полученные решения определяют MAP-поток\n",
    "4) Убедимся, что если построить MAP-представление исходного PH, у него автокорреляция будет нулевой"
   ]
  },
  {
   "cell_type": "code",
   "execution_count": 6,
   "id": "liked-stephen",
   "metadata": {},
   "outputs": [
    {
     "name": "stdout",
     "output_type": "stream",
     "text": [
      "min:  -0.019604337939179466\n",
      "max:  0.2877932070414288\n",
      "real:  8.88178419700126e-16\n",
      "-0.017927529895578314\n"
     ]
    }
   ],
   "source": [
    "ph = fit_ph(1, 0.5, 2)\n",
    "min_rho = optimize_lag1(ph, optype='min')\n",
    "max_rho = optimize_lag1(ph, optype='max')\n",
    "\n",
    "print('min: ', min_rho.fun)\n",
    "print('max: ', max_rho.fun)\n",
    "\n",
    "# Validate D0, D1 describe well-defined MAPs:\n",
    "MarkovArrival(ph.s, min_rho.x.reshape((ph.order, ph.order)).T)\n",
    "MarkovArrival(ph.s, max_rho.x.reshape((ph.order, ph.order)).T)\n",
    "\n",
    "print('real: ', MarkovArrival.phase_type(ph.s, ph.init_probs).lag(1))\n",
    "print(optimize_lag1(ph, optype='min').fun)"
   ]
  },
  {
   "cell_type": "markdown",
   "id": "activated-failure",
   "metadata": {},
   "source": [
    "## Генерация случайного MAP-потока для заданного PH\n",
    "\n",
    "Определим функцию, которая генерирует MAP со случайной матрицей D1, но так, чтобы у результата коэффициент автокорреляции был не меньше (по модулю) заданного значения.\n",
    "Для этого будем выбирать случайные элементы D1 и заполнять их числами, пока сумма с элементами соответствующих строк D0 не будет нулевой."
   ]
  },
  {
   "cell_type": "code",
   "execution_count": 7,
   "id": "efficient-brooklyn",
   "metadata": {},
   "outputs": [
    {
     "name": "stdout",
     "output_type": "stream",
     "text": [
      "- original lag-1 is 0.00000\n",
      "- update: new lag-1 is 0.00954\n",
      "- update: new lag-1 is 0.18680\n",
      "MAP lag-1 correlation:  0.1868044568950211\n",
      "Matrices\n",
      "+ D0:\n",
      "[[-86.706  86.706   0.      0.   ]\n",
      " [  0.    -86.706   0.      0.   ]\n",
      " [  0.      0.     -0.294   0.294]\n",
      " [  0.      0.      0.     -0.294]]\n",
      "+ D1:\n",
      "[[ 0.     0.     0.     0.   ]\n",
      " [ 0.14  66.302  1.463 18.801]\n",
      " [ 0.     0.     0.     0.   ]\n",
      " [ 0.01   0.047  0.032  0.205]]\n"
     ]
    }
   ],
   "source": [
    "def generate_random_map(ph: PhaseType, max_iters: int = 1000, min_lag_abs: float = .1):\n",
    "    \"\"\"\n",
    "    Generate random MAP for the given stationary PH with lag-1 autocorrelation\n",
    "    not less then the given value.\n",
    "    \"\"\"\n",
    "    best_solution = MarkovArrival.phase_type(ph.s, ph.init_probs)\n",
    "    best_lag1 = best_solution.lag(1)\n",
    "    print(f\"- original lag-1 is {best_lag1:.5f}\")\n",
    "    iteration = 0\n",
    "    while iteration < max_iters and abs(best_lag1) < min_lag_abs:\n",
    "        m = ph.order\n",
    "        d1 = np.zeros((m, m))\n",
    "        for i in range(m):\n",
    "            delta = -sum(ph.s[i])\n",
    "            if delta < 1e-10:\n",
    "                continue\n",
    "            columns = list(range(m))\n",
    "            while delta > 0:\n",
    "                j = np.random.choice(columns)\n",
    "                columns.remove(j)\n",
    "                d1[i, j] = np.random.uniform(0, delta) if columns else delta\n",
    "                delta -= d1[i, j]\n",
    "        new_solution = MarkovArrival(ph.s, d1)\n",
    "        new_lag1 = new_solution.lag(1)\n",
    "        if abs(new_lag1) > abs(best_lag1):\n",
    "            print(f\"- update: new lag-1 is {new_lag1:.5f}\")\n",
    "            best_solution = new_solution\n",
    "            best_lag1 = new_lag1\n",
    "        iteration += 1\n",
    "    return best_solution\n",
    "\n",
    "ph = fit_ph(1, 3, 4)\n",
    "markov_arrival = generate_random_map(ph)\n",
    "print(\"MAP lag-1 correlation: \", markov_arrival.lag(1))\n",
    "print(\"Matrices\")\n",
    "with np.printoptions(precision=3, suppress=True):\n",
    "    print(\"+ D0:\")\n",
    "    print(markov_arrival.d0)\n",
    "    print(\"+ D1:\")\n",
    "    print(markov_arrival.d1)"
   ]
  },
  {
   "cell_type": "markdown",
   "id": "legal-decimal",
   "metadata": {},
   "source": [
    "## Диапазоны изменений коэффициентов автокорреляции первого порядка\n",
    "\n",
    "Построим набор PH-распределений для сетки $(cv - 1/cv, \\gamma)$ и вычислим для этих распределений минимальный и максимальный коэффициенты автокорреляции."
   ]
  },
  {
   "cell_type": "code",
   "execution_count": 8,
   "id": "mature-neutral",
   "metadata": {},
   "outputs": [],
   "source": [
    "def x2cv(x: float) -> float:\n",
    "    \"\"\"Get CV value from c-1/c value.\n",
    "    \"\"\"\n",
    "    return (x + pow(x**2 + 4, 0.5)) / 2"
   ]
  },
  {
   "cell_type": "code",
   "execution_count": 9,
   "id": "involved-syndrome",
   "metadata": {},
   "outputs": [],
   "source": [
    "GRID_SIZE = 20\n",
    "X = np.linspace(-2.5, 10, GRID_SIZE)  # c - 1/c values\n",
    "Y = np.linspace(0, 10, GRID_SIZE)  # gamma (skewness) values, not all feasible\n",
    "CV = np.asarray([x2cv(x) for x in X])\n",
    "PLANE_SHAPE = (GRID_SIZE, GRID_SIZE)\n",
    "COORDS = list(product(range(GRID_SIZE), range(GRID_SIZE)))\n",
    "MEAN = 1.0"
   ]
  },
  {
   "cell_type": "code",
   "execution_count": 10,
   "id": "bibliographic-berkeley",
   "metadata": {},
   "outputs": [
    {
     "data": {
      "application/vnd.jupyter.widget-view+json": {
       "model_id": "43dc6dd1c4d94bb6980c4d7f27224ad9",
       "version_major": 2,
       "version_minor": 0
      },
      "text/plain": [
       "  0%|          | 0/20 [00:00<?, ?it/s]"
      ]
     },
     "metadata": {},
     "output_type": "display_data"
    }
   ],
   "source": [
    "phs = [[fit_ph(MEAN, cv, y) if y > x else None for (x, cv) in zip(X, CV)] for y in tqdm(Y)]"
   ]
  },
  {
   "cell_type": "code",
   "execution_count": 13,
   "id": "martial-milan",
   "metadata": {},
   "outputs": [
    {
     "data": {
      "application/vnd.jupyter.widget-view+json": {
       "model_id": "c6d193133e604564b934e734fe42f4b9",
       "version_major": 2,
       "version_minor": 0
      },
      "text/plain": [
       "  0%|          | 0/20 [00:00<?, ?it/s]"
      ]
     },
     "metadata": {},
     "output_type": "display_data"
    }
   ],
   "source": [
    "lowest = [[optimize_lag1(ph, optype='min', n_iters=3).fun if ph and ph.order < 10 else None for ph in row] for row in tqdm(phs)]"
   ]
  },
  {
   "cell_type": "code",
   "execution_count": 14,
   "id": "silver-recognition",
   "metadata": {},
   "outputs": [
    {
     "data": {
      "application/vnd.jupyter.widget-view+json": {
       "model_id": "b0da0beb63604d91818bc8bd44ce722c",
       "version_major": 2,
       "version_minor": 0
      },
      "text/plain": [
       "  0%|          | 0/20 [00:00<?, ?it/s]"
      ]
     },
     "metadata": {},
     "output_type": "display_data"
    }
   ],
   "source": [
    "highest = [[optimize_lag1(ph, optype='max', n_iters=3).fun if ph and ph.order < 10 else None for ph in row] for row in tqdm(phs)]"
   ]
  },
  {
   "cell_type": "code",
   "execution_count": 15,
   "id": "straight-service",
   "metadata": {},
   "outputs": [
    {
     "data": {
      "image/png": "[encoded data removed]",
      "text/plain": [
       "<Figure size 936x252 with 6 Axes>"
      ]
     },
     "metadata": {
      "needs_background": "light"
     },
     "output_type": "display_data"
    }
   ],
   "source": [
    "def plot_corr(lowest, highest, title=\"\", y_size=5):\n",
    "    orders = np.zeros(shape=PLANE_SHAPE)\n",
    "    for (i, j) in COORDS:\n",
    "        if phs[i][j] is None:\n",
    "            orders[i][j] = None\n",
    "        else:\n",
    "            orders[i][j] = phs[i][j].order\n",
    "        if lowest[i][j] is None:\n",
    "            lowest[i][j] = np.nan\n",
    "        if highest[i][j] is None:\n",
    "            highest[i][j] = np.nan\n",
    "\n",
    "    fig, (ax1, ax2, ax3) = plt.subplots(figsize=(13, y_size), ncols=3, nrows=1, sharey=True)\n",
    "    im1 = ax1.pcolormesh(X, Y, orders)\n",
    "    im2 = ax2.pcolormesh(X, Y, lowest)\n",
    "    im3 = ax3.pcolormesh(X, Y, highest)\n",
    "    \n",
    "    fig.suptitle(title, fontsize=16) \n",
    "    ax1.set_title('MAP order')\n",
    "    ax2.set_title('Minimum lag-1 autocorr.')\n",
    "    ax3.set_title('Maximum lag-1 autocorr.')\n",
    "    \n",
    "    ax1.set_ylabel('Skewness (gamma)')\n",
    "    \n",
    "    for im, ax in zip((im1, im2, im3), (ax1, ax2, ax3)):\n",
    "        fig.colorbar(im, ax=ax)\n",
    "        ax.set_xlabel('c - 1/c')\n",
    "        ax.grid()\n",
    "        \n",
    "    plt.tight_layout()    \n",
    "\n",
    "#\n",
    "# Plot original hyper-Erlang distributions without optimizations of ratios or probabilities.\n",
    "#\n",
    "plot_corr(lowest, highest, \"Minimum and maximum lag-1 autocorrelations\", y_size=3.5)\n",
    "# plt.savefig('image.png')"
   ]
  },
  {
   "cell_type": "code",
   "execution_count": null,
   "id": "91ea794a-06a1-4e3a-8422-a9795f01e337",
   "metadata": {},
   "outputs": [],
   "source": []
  }
 ],
 "metadata": {
  "kernelspec": {
   "display_name": "Python 3 (ipykernel)",
   "language": "python",
   "name": "python3"
  },
  "language_info": {
   "codemirror_mode": {
    "name": "ipython",
    "version": 3
   },
   "file_extension": ".py",
   "mimetype": "text/x-python",
   "name": "python",
   "nbconvert_exporter": "python",
   "pygments_lexer": "ipython3",
   "version": "3.8.10"
  }
 },
 "nbformat": 4,
 "nbformat_minor": 5
}
