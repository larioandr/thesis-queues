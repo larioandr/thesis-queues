{
 "cells": [
  {
   "cell_type": "code",
   "execution_count": 7,
   "id": "8c26551f",
   "metadata": {},
   "outputs": [],
   "source": [
    "from pyqumo.algorithms.networks import mapph1n_tandem\n",
    "from pyqumo.random import PhaseType\n",
    "from pyqumo.arrivals import MarkovArrival\n",
    "from pyqumo.cqumo.sim import simulate_gg1n\n",
    "\n",
    "from matplotlib import pyplot as plt\n",
    "\n",
    "import numpy as np"
   ]
  },
  {
   "cell_type": "code",
   "execution_count": 2,
   "id": "45928c71",
   "metadata": {},
   "outputs": [
    {
     "name": "stdout",
     "output_type": "stream",
     "text": [
      "Mean: 0.027\n",
      "Std : 0.019\n",
      "CV  : 0.694\n",
      "Rate: 37.033\n"
     ]
    }
   ],
   "source": [
    "S = np.asarray([\n",
    "    [-100, 100, 0, 0, 0, 0],\n",
    "    [0, -100, 100, 0, 0, 0],\n",
    "    [0, 0, -100, 0, 0, 0],\n",
    "    [0, 0, 0, -100_000, 100_000, 0],\n",
    "    [0, 0, 0, 0, -100_000, 100_000],\n",
    "    [0, 0, 0, 0, 0, -100_000]\n",
    "])\n",
    "p = np.asarray([0.9, 0, 0, 0.1, 0, 0])\n",
    "\n",
    "PH = PhaseType(S, p)\n",
    "print(f\"Mean: {PH.mean:.3f}\\n\"\n",
    "      f\"Std : {PH.std:.3f}\\n\"\n",
    "      f\"CV  : {PH.cv:.3f}\\n\"\n",
    "      f\"Rate: {PH.rate:.3f}\")"
   ]
  },
  {
   "cell_type": "code",
   "execution_count": 3,
   "id": "6d2f0cd1",
   "metadata": {},
   "outputs": [
    {
     "name": "stdout",
     "output_type": "stream",
     "text": [
      "Mean: 0.073\n",
      "Std : 0.593\n",
      "CV  : 8.130\n",
      "Rate: 13.720\n",
      "Corr: 0.42208306174254717\n"
     ]
    }
   ],
   "source": [
    "D0 = np.asarray([\n",
    "    [-1, 0.4, 0],\n",
    "    [1, -1, 0],\n",
    "    [0.2, 0, -200]\n",
    "])\n",
    "D1 = np.asarray([\n",
    "    [0.58, 0, 0.02],\n",
    "    [0, 0, 0],\n",
    "    [0, 0, 199.8]\n",
    "])\n",
    "\n",
    "MAP = MarkovArrival(D0, D1)\n",
    "print(f\"Mean: {MAP.mean:.3f}\\n\"\n",
    "      f\"Std : {MAP.std:.3f}\\n\"\n",
    "      f\"CV  : {MAP.cv:.3f}\\n\"\n",
    "      f\"Rate: {MAP.rate:.3f}\\n\"\n",
    "      f\"Corr: {MAP.lag(1)}\")"
   ]
  },
  {
   "cell_type": "code",
   "execution_count": 6,
   "id": "4cf4f9c7",
   "metadata": {},
   "outputs": [
    {
     "data": {
      "text/plain": [
       "SolveResults(skipped=False, delay=0.046497046008701165, delivery_prob=0.20526802127053678, last_system_size=0.13094857295169274, elapsed=0.003763959000025352, max_inp_order=3, max_out_order=54, m1_err=0.0, cv_err=0.0, skew_err=0.0, lag1_err=0.0)"
      ]
     },
     "execution_count": 6,
     "metadata": {},
     "output_type": "execute_result"
    }
   ],
   "source": [
    "mapph1n_tandem.solve_iterative(MAP, PH, 1, 1, max_precise_order=100000)"
   ]
  },
  {
   "cell_type": "code",
   "execution_count": null,
   "id": "7c44c7a2",
   "metadata": {},
   "outputs": [],
   "source": []
  }
 ],
 "metadata": {
  "kernelspec": {
   "display_name": "Python 3 (ipykernel)",
   "language": "python",
   "name": "python3"
  },
  "language_info": {
   "codemirror_mode": {
    "name": "ipython",
    "version": 3
   },
   "file_extension": ".py",
   "mimetype": "text/x-python",
   "name": "python",
   "nbconvert_exporter": "python",
   "pygments_lexer": "ipython3",
   "version": "3.9.7"
  }
 },
 "nbformat": 4,
 "nbformat_minor": 5
}
